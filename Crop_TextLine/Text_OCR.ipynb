{
 "cells": [
  {
   "cell_type": "code",
   "execution_count": 1,
   "metadata": {},
   "outputs": [],
   "source": [
    "import os\n",
    "import pytesseract"
   ]
  },
  {
   "cell_type": "code",
   "execution_count": 2,
   "metadata": {},
   "outputs": [],
   "source": [
    "import json\n",
    "import cv2\n",
    "import matplotlib.pyplot as plt"
   ]
  },
  {
   "cell_type": "code",
   "execution_count": 3,
   "metadata": {},
   "outputs": [],
   "source": [
    "import pandas as pd\n",
    "from pytesseract import Output"
   ]
  },
  {
   "cell_type": "code",
   "execution_count": 4,
   "metadata": {},
   "outputs": [],
   "source": [
    "%matplotlib inline"
   ]
  },
  {
   "cell_type": "code",
   "execution_count": 5,
   "metadata": {},
   "outputs": [],
   "source": [
    "json_path = './6_1_4_predict.json'\n",
    "img_path = './data_450/6_1_4.jpg'"
   ]
  },
  {
   "cell_type": "code",
   "execution_count": 6,
   "metadata": {},
   "outputs": [],
   "source": [
    "with open(json_path) as json_file:\n",
    "    data = json.load(json_file)"
   ]
  },
  {
   "cell_type": "code",
   "execution_count": 7,
   "metadata": {},
   "outputs": [
    {
     "name": "stdout",
     "output_type": "stream",
     "text": [
      "{'x': 1041, 'y': 2306, 'w': 83, 'h': 28}\n",
      "{'x': 415, 'y': 2306, 'w': 81, 'h': 26}\n",
      "{'x': 101, 'y': 2306, 'w': 275, 'h': 28}\n",
      "{'x': 1490, 'y': 2305, 'w': 154, 'h': 28}\n",
      "{'x': 726, 'y': 2304, 'w': 265, 'h': 32}\n"
     ]
    }
   ],
   "source": [
    "for text_line in data['text_lines'][:5]:\n",
    "    print(text_line)"
   ]
  },
  {
   "cell_type": "code",
   "execution_count": 8,
   "metadata": {},
   "outputs": [],
   "source": [
    "class JsonReader(object):\n",
    "    \n",
    "    def __init__(self, json_path, img_path):\n",
    "        self.text_image = cv2.imread(img_path)\n",
    "        self.image_dir = img_path\n",
    "        self.json_path = json_path\n",
    "        self.list_coordinate = []\n",
    "        self.json_data = {}\n",
    "        self.readJsonFile()\n",
    "        self.initJsonData()\n",
    "        \n",
    "    def initJsonData(self):\n",
    "        self.json_data['model_name'] = self.json_data['model_name']\n",
    "        self.json_data['image_dir'] = self.image_dir\n",
    "        self.json_data['text_lines'] = []\n",
    "        \n",
    "    def readJsonFile(self):\n",
    "        with open(self.json_path) as json_file:\n",
    "            self.json_data = json.load(json_file)\n",
    "            \n",
    "    def createListCoordinate(self):\n",
    "        for text_line in data['text_lines']:\n",
    "            self.list_coordinate.append(text_line)\n",
    "        \n",
    "    def crop_text_line(self, coordinate, pixel_padding = 0):\n",
    "        x = int(coordinate['x']) - pixel_padding\n",
    "        y = int(coordinate['y']) - pixel_padding\n",
    "        h = int(coordinate['h']) + pixel_padding\n",
    "        w = int(coordinate['w']) + pixel_padding\n",
    "        \n",
    "        text_line = self.text_image[y:y+h, x:x+w]\n",
    "        \n",
    "        # call Tesseract\n",
    "        text = pytesseract.image_to_string(text_line, lang='vie', config='--psm 7 --oem 1 tsv')\n",
    "        text_line_coor = {}\n",
    "        text_line_coor['coordinate'] = coordinate\n",
    "        text_line_coor['text_content'] = text\n",
    "        data = pytesseract.image_to_data(text_line, lang='vie', config='--psm 7 --oem 1 tsv', output_type=Output.DATAFRAME)\n",
    "        \n",
    "        list_words = [] \n",
    "        for index, row in data[data[\"conf\"] > 0].iterrows():\n",
    "            coordinate_word = {}\n",
    "            word_data = {}\n",
    "            coordinate_word['x'] = row['left']\n",
    "            coordinate_word['y'] = row['top']\n",
    "            coordinate_word['w'] = row['width']\n",
    "            coordinate_word['h'] = row['height']\n",
    "            word_data['word'] = row['text']\n",
    "            word_data['w_coor'] = coordinate_word\n",
    "            list_words.append(word_data)\n",
    "            \n",
    "        text_line_coor['list_words'] = list_words\n",
    "        \n",
    "        self.json_data['text_lines'].append(text_line_coor)\n",
    "    \n",
    "    def processOCR(self, padding=0, json_save_name='text.json'):\n",
    "        self.createListCoordinate()\n",
    "        for coordinate in self.list_coordinate:\n",
    "            self.crop_text_line(coordinate, padding)\n",
    "        \n",
    "        with open(json_save_name, 'w', encoding='utf-8') as write_file:\n",
    "            json.dump(self.json_data, write_file, indent=4, ensure_ascii=False)"
   ]
  },
  {
   "cell_type": "code",
   "execution_count": 9,
   "metadata": {},
   "outputs": [],
   "source": [
    "JsonData = JsonReader(json_path, img_path)"
   ]
  },
  {
   "cell_type": "code",
   "execution_count": 10,
   "metadata": {},
   "outputs": [],
   "source": [
    "JsonData.processOCR(2, 'text.json')"
   ]
  },
  {
   "cell_type": "code",
   "execution_count": null,
   "metadata": {},
   "outputs": [],
   "source": []
  }
 ],
 "metadata": {
  "kernelspec": {
   "display_name": "Python 3",
   "language": "python",
   "name": "python3"
  },
  "language_info": {
   "codemirror_mode": {
    "name": "ipython",
    "version": 3
   },
   "file_extension": ".py",
   "mimetype": "text/x-python",
   "name": "python",
   "nbconvert_exporter": "python",
   "pygments_lexer": "ipython3",
   "version": "3.6.5"
  }
 },
 "nbformat": 4,
 "nbformat_minor": 2
}
